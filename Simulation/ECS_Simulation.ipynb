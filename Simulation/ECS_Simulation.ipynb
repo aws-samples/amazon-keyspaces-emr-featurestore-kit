{
 "cells": [
  {
   "cell_type": "markdown",
   "metadata": {},
   "source": [
    "# Feature Creation\n",
    "<font color='grey'>_Author @Oliver Zollikofer_</font><br>\n",
    "__Kernel__: conda_python3\n",
    "\n",
    "\n",
    "## Notebook outline\n",
    "\n",
    "In this notebook we will build and push a docker image to ECR, create IAM roles and policies and run a simulation using ECS to simulate the requests to Keyspaces.\n",
    "***"
   ]
  },
  {
   "cell_type": "markdown",
   "metadata": {},
   "source": [
    "## Prerequisite\n",
    "\n",
    "In order to run this Simulation, this notebook role requires some additional priviliges. There are related to ECR, IAM and ECS. Follow the steps to add these permissions to the notebook role:\n",
    "\n",
    "1. Navigate to IAM in the console, and select __Policies__ in the left hand menu\n",
    "2. Select __Create Policy__ and choose __JSON__ in the following menu. In the text area, paste the following code\n",
    "```json\n",
    "{\n",
    "    \"Version\": \"2012-10-17\",\n",
    "    \"Statement\": [\n",
    "        {\n",
    "            \"Sid\": \"AllowPushPull\",\n",
    "            \"Effect\": \"Allow\",\n",
    "            \"Action\": [\n",
    "                \"ecr:BatchGetImage\",\n",
    "                \"ecr:BatchCheckLayerAvailability\",\n",
    "                \"ecr:CompleteLayerUpload\",\n",
    "                \"ecr:GetDownloadUrlForLayer\",\n",
    "                \"ecr:InitiateLayerUpload\",\n",
    "                \"ecr:PutImage\",\n",
    "                \"ecr:UploadLayerPart\"\n",
    "            ],\n",
    "            \"Resource\": [\n",
    "                \"arn:aws:ecr:*:*:repository/*\"\n",
    "            ]\n",
    "        },\n",
    "        {\n",
    "            \"Sid\": \"AllowIAMRoleCreation\",\n",
    "            \"Effect\": \"Allow\",\n",
    "            \"Action\": [\n",
    "                \"iam:CreateRole\",\n",
    "                \"iam:CreatePolicy\",\n",
    "                \"iam:AttachRolePolicy\",\n",
    "                \"iam:PassRole\"\n",
    "            ],\n",
    "            \"Resource\": [\n",
    "                \"*\"\n",
    "            ]\n",
    "        },\n",
    "        {\n",
    "            \"Sid\": \"AllowECSRoleCreation\",\n",
    "            \"Effect\": \"Allow\",\n",
    "            \"Action\": [\n",
    "                \"ecs:CreateCluster\",\n",
    "                \"ecs:CreateTaskSet\",\n",
    "                \"ecs:ListClusters\",\n",
    "                \"ecs:UpdateCluster\",\n",
    "                \"ecs:DeleteCluster\",\n",
    "                \"ecs:DeleteTaskSet\",\n",
    "                \"ecs:RegisterTaskDefinition\",\n",
    "                \"ecs:RunTask\"\n",
    "            ],\n",
    "            \"Resource\": [\n",
    "                \"*\"\n",
    "            ]\n",
    "        }\n",
    "    ]\n",
    "}\n",
    "```\n",
    "3. Select __Next__, you can fill in Tags as optional. Proceed to __Review__\n",
    "4. Give the __Policy__ a name, you can call it _featureStoreSimulationRole_\n",
    "5. Navigate to Sagemaker, and select the Notebook instance you are running. \n",
    "6. Under __Permissions and encryption__ select the IAM role the notebook is running with\n",
    "7. Choose __Trust Relationships__\n",
    "8. Click on __Edit trust relationship__ and paste the following json in the text field:\n",
    "``` json\n",
    "{\n",
    "  \"Version\": \"2012-10-17\",\n",
    "  \"Statement\": [\n",
    "    {\n",
    "      \"Effect\": \"Allow\",\n",
    "      \"Principal\": {\n",
    "        \"Service\": [\n",
    "          \"sagemaker.amazonaws.com\",\n",
    "          \"ecs.amazonaws.com\",\n",
    "          \"iam.amazonaws.com\"\n",
    "        ]\n",
    "      },\n",
    "      \"Action\": \"sts:AssumeRole\"\n",
    "    }\n",
    "  ]\n",
    "}\n",
    "```\n",
    "9. Select __Permissions__ tab and select __Attach Policies__, search for _featureStoreSimulationRole_ (or the respective role if you named it differently)\n",
    "10. Attach the policy and you should be able to run the simulation code\n",
    "___\n"
   ]
  },
  {
   "cell_type": "markdown",
   "metadata": {},
   "source": [
    "# 1. Configurations"
   ]
  },
  {
   "cell_type": "markdown",
   "metadata": {},
   "source": [
    "### Import Libraries"
   ]
  },
  {
   "cell_type": "code",
   "execution_count": 1,
   "metadata": {},
   "outputs": [],
   "source": [
    "import boto3\n",
    "import json"
   ]
  },
  {
   "cell_type": "markdown",
   "metadata": {},
   "source": [
    "### Set Clients"
   ]
  },
  {
   "cell_type": "code",
   "execution_count": 2,
   "metadata": {},
   "outputs": [],
   "source": [
    "ecs_client = boto3.client('ecs')\n",
    "iam_client = boto3.client('iam')\n",
    "cw_client = boto3.client('logs')"
   ]
  },
  {
   "cell_type": "markdown",
   "metadata": {},
   "source": [
    "### Set Variables\n",
    "Please enter the subnet you want your ECS Task to run in, as well as Keyspaces username and password and S3 bucket name. For the other variables, you can change these according to your\n",
    "needs, but it is advised to keep the variables in order to be able to reproduce the experiment"
   ]
  },
  {
   "cell_type": "code",
   "execution_count": 3,
   "metadata": {},
   "outputs": [],
   "source": [
    "keyspaces_username = <put Keyspaces username here> #Keyspaces username (string)\n",
    "keyspaces_password = <put Keyspaces username here> #Keyspaces password (string)\n",
    "s3_bucket_name = <put S3 bucket name> #S3 bucket name (string)\n",
    "subnet_ecs = <put the subnet to run the ecs task here, string format> # e.g. 'subnet-....'\n",
    "project_name = 'simulation_keyspaces'\n",
    "ecr_repository = 'simulation-keyspaces'\n",
    "ecs_cluster_name = 'simulation_keyspaces'\n",
    "ecs_cpu = '512'\n",
    "ecs_memory = '1024'\n",
    "worker_node_count = 1\n",
    "ecs_task_role_name = 'ecs_simulation_keyspaces_task_role'\n",
    "ecs_execution_role_name = 'ecs_simulation_keyspaces_execution_role'\n",
    "cw_logGroupName='/ecs/simulation_keyspaces'"
   ]
  },
  {
   "cell_type": "markdown",
   "metadata": {},
   "source": [
    "### Create Log group for ECS"
   ]
  },
  {
   "cell_type": "code",
   "execution_count": null,
   "metadata": {},
   "outputs": [],
   "source": [
    "response_cw_log_group = cw_client.create_log_group(\n",
    "    logGroupName=cw_logGroupName\n",
    ")"
   ]
  },
  {
   "cell_type": "markdown",
   "metadata": {},
   "source": [
    "### Set ECR Image Name"
   ]
  },
  {
   "cell_type": "code",
   "execution_count": null,
   "metadata": {},
   "outputs": [],
   "source": [
    "# ECR Image URI\n",
    "account_id = boto3.client('sts').get_caller_identity().get('Account')\n",
    "tag = ':latest'\n",
    "region = boto3.session.Session().region_name\n",
    "uri_suffix = 'amazonaws.com'\n",
    "if region in ['cn-north-1', 'cn-northwest-1']:\n",
    "    uri_suffix = 'amazonaws.com.cn'\n",
    "ecr_image_uri = '{}.dkr.ecr.{}.{}/{}'.format(account_id, region, uri_suffix, ecr_repository + tag)\n",
    "\n",
    "ecr_image_uri"
   ]
  },
  {
   "cell_type": "markdown",
   "metadata": {},
   "source": [
    "# 2. Build and push docker image to ECR\n",
    "\n",
    "_Requires permission to push image to ECR_"
   ]
  },
  {
   "cell_type": "code",
   "execution_count": null,
   "metadata": {},
   "outputs": [],
   "source": [
    "%%sh\n",
    "# Build and push docker image to ECR\n",
    "\n",
    "# Specify an algorithm name\n",
    "algorithm_name=simulation-keyspaces\n",
    "\n",
    "account=$(aws sts get-caller-identity --query Account --output text)\n",
    "\n",
    "# Get the region defined in the current configuration (default to us-west-2 if none defined)\n",
    "region=$(aws configure get region)\n",
    "region=YOUR_REGION-NAME-HERE\n",
    "\n",
    "fullname=\"${account}.dkr.ecr.${region}.amazonaws.com/${algorithm_name}:latest\"\n",
    "\n",
    "# If the repository doesn't exist in ECR, create it.\n",
    "\n",
    "aws ecr describe-repositories --repository-names \"${algorithm_name}\" > /dev/null 2>&1\n",
    "if [ $? -ne 0 ]\n",
    "then\n",
    "aws ecr create-repository --repository-name \"${algorithm_name}\" > /dev/null\n",
    "fi\n",
    "\n",
    "# Get the login command from ECR and execute it directly\n",
    "\n",
    "#$(aws ecr get-login --region ${region} --no-include-email)\n",
    "aws ecr get-login-password --region ${region} | docker login --username AWS --password-stdin ${account}.dkr.ecr.${region}.amazonaws.com\n",
    "#docker login -u AWS ---p $(aws ecr get-login-password) ${account}.dkr.ecr.${region}.amazonaws.com\n",
    "# Build the docker image locally with the image name and then push it to ECR\n",
    "# with the full name.\n",
    "cd container\n",
    "\n",
    "docker build -t ${algorithm_name} .\n",
    "docker tag ${algorithm_name} ${fullname}\n",
    "\n",
    "docker push ${fullname}\n",
    "unset AWS_ACCESS_KEY_ID AWS_SECRET_ACCESS_KEY AWS_SESSION_TOKEN"
   ]
  },
  {
   "cell_type": "markdown",
   "metadata": {},
   "source": [
    "# 3. Set up AWS Resources\n",
    "Set up AWS Resources such as ECS Cluster, IAM Roles and Policies, ECS Task Definition"
   ]
  },
  {
   "cell_type": "markdown",
   "metadata": {},
   "source": [
    "### Create ECS Cluster\n",
    "\n",
    "_Requires permission to ECS Cluster_"
   ]
  },
  {
   "cell_type": "code",
   "execution_count": 4,
   "metadata": {},
   "outputs": [],
   "source": [
    "#Create Cluster\n",
    "\n",
    "response_cluster = ecs_client.create_cluster(\n",
    "    clusterName='simulation_keyspaces',\n",
    "    settings=[\n",
    "        {\n",
    "            'name': 'containerInsights',\n",
    "            'value': 'enabled'\n",
    "        },\n",
    "    ]\n",
    ")"
   ]
  },
  {
   "cell_type": "markdown",
   "metadata": {},
   "source": [
    "### Create IAM Roles"
   ]
  },
  {
   "cell_type": "markdown",
   "metadata": {},
   "source": [
    "#### Task Role\n",
    "\n",
    "_Requires permission to create IAM Role_"
   ]
  },
  {
   "cell_type": "code",
   "execution_count": null,
   "metadata": {},
   "outputs": [],
   "source": [
    "trust_relationship_policy_task = {\n",
    "    \"Version\": \"2012-10-17\",\n",
    "    \"Statement\": [\n",
    "        {\n",
    "            \"Effect\": \"Allow\",\n",
    "            \"Principal\": {\n",
    "                \"Service\": [\"ecs.amazonaws.com\",\n",
    "                \"ecs-tasks.amazonaws.com\"]\n",
    "            },\n",
    "            \"Action\": \"sts:AssumeRole\"\n",
    "        }\n",
    "    ]\n",
    "}\n",
    "\n",
    "response_create_task_role = iam_client.create_role(\n",
    "    RoleName=str(ecs_task_role_name),\n",
    "    AssumeRolePolicyDocument=json.dumps(trust_relationship_policy_task)\n",
    ")\n",
    "response_create_task_role['Role']['Arn']"
   ]
  },
  {
   "cell_type": "code",
   "execution_count": null,
   "metadata": {},
   "outputs": [],
   "source": [
    "policy_document_ecs_task = json.dumps({\n",
    "    \"Version\": \"2012-10-17\",\n",
    "    \"Statement\": [\n",
    "        {\n",
    "            \"Effect\": \"Allow\",\n",
    "            \"Action\": \"s3:*\",\n",
    "            \"Resource\": [\"arn:aws:s3:::\" + str(s3_bucket_name) + \"/*\"]\n",
    "        },\n",
    "        {\n",
    "            \"Action\": [\n",
    "                \"autoscaling:Describe*\",\n",
    "                \"cloudwatch:*\",\n",
    "                \"logs:*\",\n",
    "                \"iam:GetPolicy\",\n",
    "                \"iam:GetPolicyVersion\",\n",
    "                \"iam:GetRole\"\n",
    "            ],\n",
    "            \"Effect\": \"Allow\",\n",
    "            \"Resource\": \"*\"\n",
    "        },\n",
    "        {\n",
    "            \"Action\": [\n",
    "                \"autoscaling:Describe*\",\n",
    "                \"cloudwatch:*\",\n",
    "                \"logs:*\",\n",
    "                \"iam:GetPolicy\",\n",
    "                \"iam:GetPolicyVersion\",\n",
    "                \"iam:GetRole\"\n",
    "            ],\n",
    "            \"Effect\": \"Allow\",\n",
    "            \"Resource\": \"*\"\n",
    "        },\n",
    "        {\n",
    "            \"Effect\": \"Allow\",\n",
    "            \"Action\": \"iam:CreateServiceLinkedRole\",\n",
    "            \"Resource\": \"arn:aws:iam::*:role/aws-service-role/events.amazonaws.com/AWSServiceRoleForCloudWatchEvents*\",\n",
    "            \"Condition\": {\n",
    "                \"StringLike\": {\n",
    "                    \"iam:AWSServiceName\": \"events.amazonaws.com\"\n",
    "                }\n",
    "            }\n",
    "        }\n",
    "    ]\n",
    "    })\n",
    "\n",
    "response_policy_task = iam_client.create_policy(\n",
    "    PolicyName='ecs_simulation_task_policy',\n",
    "    PolicyDocument = policy_document_ecs_task\n",
    ")\n",
    "\n",
    "response_policy_attach_task = iam_client.attach_role_policy(\n",
    "    RoleName=str(ecs_task_role_name),\n",
    "    PolicyArn=response_policy_task['Policy']['Arn']\n",
    ")"
   ]
  },
  {
   "cell_type": "markdown",
   "metadata": {},
   "source": [
    "#### Execution Role\n",
    "\n",
    "_Requires permission to create IAM Role_"
   ]
  },
  {
   "cell_type": "code",
   "execution_count": null,
   "metadata": {},
   "outputs": [],
   "source": [
    "trust_relationship_policy_execution = {\n",
    "    \"Version\": \"2012-10-17\",\n",
    "    \"Statement\": [\n",
    "        {\n",
    "            \"Effect\": \"Allow\",\n",
    "            \"Principal\": {\n",
    "                \"Service\": \"ecs-tasks.amazonaws.com\"\n",
    "            },\n",
    "            \"Action\": \"sts:AssumeRole\"\n",
    "        }\n",
    "    ]\n",
    "}\n",
    "\n",
    "response_create_role_ecs_execution = iam_client.create_role(\n",
    "    RoleName=str(ecs_execution_role_name),\n",
    "    AssumeRolePolicyDocument=json.dumps(trust_relationship_policy_execution)\n",
    ")\n",
    "\n",
    "\n",
    "response_policy_attach_execution = iam_client.attach_role_policy(\n",
    "    RoleName=str(ecs_execution_role_name),\n",
    "    PolicyArn='arn:aws:iam::aws:policy/service-role/AmazonECSTaskExecutionRolePolicy'\n",
    ")"
   ]
  },
  {
   "cell_type": "markdown",
   "metadata": {},
   "source": [
    "### Create ECS Task Definition\n",
    "\n",
    "_Requires permission to create Task Definition_"
   ]
  },
  {
   "cell_type": "code",
   "execution_count": 9,
   "metadata": {},
   "outputs": [],
   "source": [
    "# Create Task Definition\n",
    "response_task_def = ecs_client.register_task_definition(\n",
    "    family='simulation_keyspaces',\n",
    "    taskRoleArn = response_create_task_role['Role']['Arn'],\n",
    "    executionRoleArn =response_create_role_ecs_execution['Role']['Arn'],\n",
    "    networkMode='awsvpc',\n",
    "    containerDefinitions=[\n",
    "        {\n",
    "            \"logConfiguration\": {\n",
    "                \"logDriver\": \"awslogs\",\n",
    "                \"options\": {\n",
    "                  \"awslogs-group\": cw_logGroupName,\n",
    "                  \"awslogs-region\": str(region),\n",
    "                  \"awslogs-stream-prefix\": \"ecs\"\n",
    "                }\n",
    "              },\n",
    "            'name': str(project_name),\n",
    "            'image': str(ecr_image_uri),\n",
    "            \"essential\": True,\n",
    "            \"entryPoint\": [],\n",
    "            \"command\": []\n",
    "        }    \n",
    "    ],\n",
    "    cpu = ecs_cpu,\n",
    "    memory = ecs_memory\n",
    ")"
   ]
  },
  {
   "cell_type": "markdown",
   "metadata": {},
   "source": [
    "# 4. Run Simulation\n",
    "\n",
    "_Add subnet to your VPC here_"
   ]
  },
  {
   "cell_type": "code",
   "execution_count": null,
   "metadata": {
    "pycharm": {
     "name": "#%%\n"
    }
   },
   "outputs": [],
   "source": [
    "for worker_node in range(worker_node_count):\n",
    "    \n",
    "    response = ecs_client.run_task(\n",
    "\n",
    "        cluster='simulation_keyspaces',\n",
    "        count=1,\n",
    "        launchType='FARGATE',\n",
    "        networkConfiguration={\n",
    "            'awsvpcConfiguration': {\n",
    "                'subnets': [\n",
    "                    str(subnet_ecs),\n",
    "                ],\n",
    "                'assignPublicIp': 'ENABLED'\n",
    "            }\n",
    "        },\n",
    "\n",
    "        taskDefinition='simulation_keyspaces',\n",
    "\n",
    "\n",
    "\n",
    "\n",
    "        overrides={\n",
    "            'containerOverrides': [\n",
    "                {\n",
    "                    'name': 'simulation_keyspaces',\n",
    "                    'environment': [\n",
    "                        {\n",
    "                            'name': 'workerNo',\n",
    "                            'value': str(worker_node)\n",
    "                        },\n",
    "                        {\n",
    "                            'name': 'requests',\n",
    "                            'value': '10000', \n",
    "                        },\n",
    "                        {\n",
    "                            'name': 'num_processes',\n",
    "                            'value': '1'\n",
    "                        },\n",
    "                        {\n",
    "                            'name': 'simulation_name',\n",
    "                            'value': 'Simulation_1_worker_10000_requests'\n",
    "                        },\n",
    "                        {\n",
    "                            'name': 'keyspaces_username',\n",
    "                            'value': str(keyspaces_username)\n",
    "                        },\n",
    "                        {\n",
    "                            'name': 'keyspaces_password',\n",
    "                            'value': str(keyspaces_password)\n",
    "                        },\n",
    "                        {\n",
    "                            'name': 's3_bucket_name',\n",
    "                            'value': str(s3_bucket_name)\n",
    "                        }\n",
    "                    ]\n",
    "                }\n",
    "            ]\n",
    "        }\n",
    "    )\n",
    "    \n",
    "    print(response)"
   ]
  }
 ],
 "metadata": {
  "kernelspec": {
   "display_name": "conda_python3",
   "language": "python",
   "name": "conda_python3"
  },
  "language_info": {
   "codemirror_mode": {
    "name": "ipython",
    "version": 3
   },
   "file_extension": ".py",
   "mimetype": "text/x-python",
   "name": "python",
   "nbconvert_exporter": "python",
   "pygments_lexer": "ipython3",
   "version": "3.6.13"
  }
 },
 "nbformat": 4,
 "nbformat_minor": 5
}
