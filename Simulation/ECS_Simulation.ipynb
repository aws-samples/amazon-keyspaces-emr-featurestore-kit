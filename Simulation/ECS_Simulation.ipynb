{
 "cells": [
  {
   "cell_type": "markdown",
   "source": [
    "# Feature Creation\n",
    "<font color='grey'>_Author @Oliver Zollikofer_</font><br>\n",
    "__Kernel__: conda_python3\n",
    "\n",
    "\n",
    "## Notebook outline\n",
    "\n",
    "In this notebook we will build and push a docker image to ECR, create IAM roles and policies and run a simulation using ECS to simulate the requests to Keyspaces.\n",
    "***"
   ],
   "metadata": {}
  },
  {
   "cell_type": "markdown",
   "source": [
    "# 1. Configurations"
   ],
   "metadata": {}
  },
  {
   "cell_type": "markdown",
   "source": [
    "### Import Libraries"
   ],
   "metadata": {}
  },
  {
   "cell_type": "code",
   "execution_count": 1,
   "source": [
    "import boto3\n",
    "import json"
   ],
   "outputs": [],
   "metadata": {}
  },
  {
   "cell_type": "markdown",
   "source": [
    "### Set Clients"
   ],
   "metadata": {}
  },
  {
   "cell_type": "code",
   "execution_count": 2,
   "source": [
    "ecs_client = boto3.client('ecs')\n",
    "iam_client = boto3.client('iam')\n",
    "cw_client = boto3.client('logs')"
   ],
   "outputs": [],
   "metadata": {}
  },
  {
   "cell_type": "markdown",
   "source": [
    "### Set Variables\n",
    "Please enter the subnet you want your ECS Task to run in, as well as Keyspaces username and password and S3 bucket name. For the other variables, you can change these according to your\n",
    "needs, but it is advised to keep the variables in order to be able to reproduce the experiment"
   ],
   "metadata": {}
  },
  {
   "cell_type": "code",
   "execution_count": 3,
   "source": [
    "keyspaces_username = <put Keyspaces username here> #Keyspaces username (string)\n",
    "keyspaces_password = <put Keyspaces username here> #Keyspaces password (string)\n",
    "s3_bucket_name = <put S3 bucket name> #S3 bucket name (string)\n",
    "subnet_ecs = <put the subnet to run the ecs task here, string format> # e.g. 'subnet-....'\n",
    "project_name = 'simulation_keyspaces'\n",
    "ecr_repository = 'simulation-keyspaces'\n",
    "ecs_cluster_name = 'simulation_keyspaces'\n",
    "ecs_cpu = '512'\n",
    "ecs_memory = '1024'\n",
    "worker_node_count = 1\n",
    "ecs_task_role_name = 'ecs_simulation_keyspaces_task_role'\n",
    "ecs_execution_role_name = 'ecs_simulation_keyspaces_execution_role'\n",
    "cw_logGroupName='/ecs/simulation_keyspaces'"
   ],
   "outputs": [],
   "metadata": {}
  },
  {
   "cell_type": "markdown",
   "source": [
    "### Create Log group for ECS"
   ],
   "metadata": {}
  },
  {
   "cell_type": "code",
   "execution_count": null,
   "source": [
    "response_cw_log_group = cw_client.create_log_group(\n",
    "    logGroupName=cw_logGroupName\n",
    ")"
   ],
   "outputs": [],
   "metadata": {}
  },
  {
   "cell_type": "markdown",
   "source": [
    "### Set ECR Image Name"
   ],
   "metadata": {}
  },
  {
   "cell_type": "code",
   "execution_count": null,
   "source": [
    "# ECR Image URI\n",
    "account_id = boto3.client('sts').get_caller_identity().get('Account')\n",
    "tag = ':latest'\n",
    "region = boto3.session.Session().region_name\n",
    "uri_suffix = 'amazonaws.com'\n",
    "if region in ['cn-north-1', 'cn-northwest-1']:\n",
    "    uri_suffix = 'amazonaws.com.cn'\n",
    "ecr_image_uri = '{}.dkr.ecr.{}.{}/{}'.format(account_id, region, uri_suffix, ecr_repository + tag)\n",
    "\n",
    "ecr_image_uri"
   ],
   "outputs": [],
   "metadata": {}
  },
  {
   "cell_type": "markdown",
   "source": [
    "# 2. Build and push docker image to ECR\n",
    "\n",
    "_Requires permission to push image to ECR_"
   ],
   "metadata": {}
  },
  {
   "cell_type": "code",
   "execution_count": null,
   "source": [
    "%%sh\n",
    "# Build and push docker image to ECR\n",
    "\n",
    "# Specify an algorithm name\n",
    "algorithm_name=simulation-keyspaces\n",
    "\n",
    "account=$(aws sts get-caller-identity --query Account --output text)\n",
    "\n",
    "# Get the region defined in the current configuration (default to us-west-2 if none defined)\n",
    "region=$(aws configure get region)\n",
    "region=${region:-eu-west-1}\n",
    "\n",
    "fullname=\"${account}.dkr.ecr.${region}.amazonaws.com/${algorithm_name}:latest\"\n",
    "\n",
    "# If the repository doesn't exist in ECR, create it.\n",
    "\n",
    "aws ecr describe-repositories --repository-names \"${algorithm_name}\" > /dev/null 2>&1\n",
    "if [ $? -ne 0 ]\n",
    "then\n",
    "aws ecr create-repository --repository-name \"${algorithm_name}\" > /dev/null\n",
    "fi\n",
    "\n",
    "# Get the login command from ECR and execute it directly\n",
    "\n",
    "#$(aws ecr get-login --region ${region} --no-include-email)\n",
    "aws ecr get-login-password --region eu-west-1 | docker login --username AWS --password-stdin ${account}.dkr.ecr.eu-west-1.amazonaws.com\n",
    "#docker login -u AWS ---p $(aws ecr get-login-password) ${account}.dkr.ecr.${region}.amazonaws.com\n",
    "# Build the docker image locally with the image name and then push it to ECR\n",
    "# with the full name.\n",
    "cd container\n",
    "\n",
    "docker build -t ${algorithm_name} .\n",
    "docker tag ${algorithm_name} ${fullname}\n",
    "\n",
    "docker push ${fullname}\n",
    "unset AWS_ACCESS_KEY_ID AWS_SECRET_ACCESS_KEY AWS_SESSION_TOKEN"
   ],
   "outputs": [],
   "metadata": {}
  },
  {
   "cell_type": "markdown",
   "source": [
    "# 3. Set up AWS Resources\n",
    "Set up AWS Resources such as ECS Cluster, IAM Roles and Policies, ECS Task Definition"
   ],
   "metadata": {}
  },
  {
   "cell_type": "markdown",
   "source": [
    "### Create ECS Cluster\n",
    "\n",
    "_Requires permission to ECS Cluster_"
   ],
   "metadata": {}
  },
  {
   "cell_type": "code",
   "execution_count": 4,
   "source": [
    "#Create Cluster\n",
    "\n",
    "response_cluster = ecs_client.create_cluster(\n",
    "    clusterName='simulation_keyspaces',\n",
    "    settings=[\n",
    "        {\n",
    "            'name': 'containerInsights',\n",
    "            'value': 'enabled'\n",
    "        },\n",
    "    ]\n",
    ")"
   ],
   "outputs": [],
   "metadata": {}
  },
  {
   "cell_type": "markdown",
   "source": [
    "### Create IAM Roles"
   ],
   "metadata": {}
  },
  {
   "cell_type": "markdown",
   "source": [
    "#### Task Role\n",
    "\n",
    "_Requires permission to create IAM Role_"
   ],
   "metadata": {}
  },
  {
   "cell_type": "code",
   "execution_count": null,
   "source": [
    "trust_relationship_policy_task = {\n",
    "    \"Version\": \"2012-10-17\",\n",
    "    \"Statement\": [\n",
    "        {\n",
    "            \"Effect\": \"Allow\",\n",
    "            \"Principal\": {\n",
    "                \"Service\": [\"ecs.amazonaws.com\",\n",
    "                \"ecs-tasks.amazonaws.com\"]\n",
    "            },\n",
    "            \"Action\": \"sts:AssumeRole\"\n",
    "        }\n",
    "    ]\n",
    "}\n",
    "\n",
    "response_create_task_role = iam_client.create_role(\n",
    "    RoleName=str(ecs_task_role_name),\n",
    "    AssumeRolePolicyDocument=json.dumps(trust_relationship_policy_task)\n",
    ")\n",
    "response_create_task_role['Role']['Arn']"
   ],
   "outputs": [],
   "metadata": {}
  },
  {
   "cell_type": "code",
   "execution_count": null,
   "source": [
    "policy_document_ecs_task = json.dumps({\n",
    "    \"Version\": \"2012-10-17\",\n",
    "    \"Statement\": [\n",
    "        {\n",
    "            \"Effect\": \"Allow\",\n",
    "            \"Action\": \"s3:*\",\n",
    "            \"Resource\": \"*\"\n",
    "        },\n",
    "        {\n",
    "            \"Action\": [\n",
    "                \"autoscaling:Describe*\",\n",
    "                \"cloudwatch:*\",\n",
    "                \"logs:*\",\n",
    "                \"iam:GetPolicy\",\n",
    "                \"iam:GetPolicyVersion\",\n",
    "                \"iam:GetRole\"\n",
    "            ],\n",
    "            \"Effect\": \"Allow\",\n",
    "            \"Resource\": \"*\"\n",
    "        },\n",
    "        {\n",
    "            \"Action\": [\n",
    "                \"autoscaling:Describe*\",\n",
    "                \"cloudwatch:*\",\n",
    "                \"logs:*\",\n",
    "                \"iam:GetPolicy\",\n",
    "                \"iam:GetPolicyVersion\",\n",
    "                \"iam:GetRole\"\n",
    "            ],\n",
    "            \"Effect\": \"Allow\",\n",
    "            \"Resource\": \"*\"\n",
    "        },\n",
    "        {\n",
    "            \"Effect\": \"Allow\",\n",
    "            \"Action\": \"iam:CreateServiceLinkedRole\",\n",
    "            \"Resource\": \"arn:aws:iam::*:role/aws-service-role/events.amazonaws.com/AWSServiceRoleForCloudWatchEvents*\",\n",
    "            \"Condition\": {\n",
    "                \"StringLike\": {\n",
    "                    \"iam:AWSServiceName\": \"events.amazonaws.com\"\n",
    "                }\n",
    "            }\n",
    "        }\n",
    "    ]\n",
    "    })\n",
    "\n",
    "response_policy_task = iam_client.create_policy(\n",
    "    PolicyName='ecs_simulation_task_policy',\n",
    "    PolicyDocument = policy_document_ecs_task\n",
    ")\n",
    "\n",
    "response_policy_attach_task = iam_client.attach_role_policy(\n",
    "    RoleName=str(ecs_task_role_name),\n",
    "    PolicyArn=response_policy_task['Policy']['Arn']\n",
    ")"
   ],
   "outputs": [],
   "metadata": {}
  },
  {
   "cell_type": "markdown",
   "source": [
    "#### Execution Role\n",
    "\n",
    "_Requires permission to create IAM Role_"
   ],
   "metadata": {}
  },
  {
   "cell_type": "code",
   "execution_count": null,
   "source": [
    "trust_relationship_policy_execution = {\n",
    "    \"Version\": \"2012-10-17\",\n",
    "    \"Statement\": [\n",
    "        {\n",
    "            \"Effect\": \"Allow\",\n",
    "            \"Principal\": {\n",
    "                \"Service\": \"ecs-tasks.amazonaws.com\"\n",
    "            },\n",
    "            \"Action\": \"sts:AssumeRole\"\n",
    "        }\n",
    "    ]\n",
    "}\n",
    "\n",
    "response_create_role_ecs_execution = iam_client.create_role(\n",
    "    RoleName=str(ecs_execution_role_name),\n",
    "    AssumeRolePolicyDocument=json.dumps(trust_relationship_policy_execution)\n",
    ")\n",
    "\n",
    "\n",
    "response_policy_attach_execution = iam_client.attach_role_policy(\n",
    "    RoleName=str(ecs_execution_role_name),\n",
    "    PolicyArn='arn:aws:iam::aws:policy/service-role/AmazonECSTaskExecutionRolePolicy'\n",
    ")"
   ],
   "outputs": [],
   "metadata": {}
  },
  {
   "cell_type": "markdown",
   "source": [
    "### Create ECS Task Definition\n",
    "\n",
    "_Requires permission to create Task Definition_"
   ],
   "metadata": {}
  },
  {
   "cell_type": "code",
   "execution_count": 9,
   "source": [
    "# Create Task Definition\n",
    "response_task_def = ecs_client.register_task_definition(\n",
    "    family='simulation_keyspaces',\n",
    "    taskRoleArn = response_create_task_role['Role']['Arn'],\n",
    "    executionRoleArn =response_create_role_ecs_execution['Role']['Arn'],\n",
    "    networkMode='awsvpc',\n",
    "    containerDefinitions=[\n",
    "        {\n",
    "            \"logConfiguration\": {\n",
    "                \"logDriver\": \"awslogs\",\n",
    "                \"options\": {\n",
    "                  \"awslogs-group\": cw_logGroupName,\n",
    "                  \"awslogs-region\": \"eu-west-1\",\n",
    "                  \"awslogs-stream-prefix\": \"ecs\"\n",
    "                }\n",
    "              },\n",
    "            'name': str(project_name),\n",
    "            'image': str(ecr_image_uri),\n",
    "            \"essential\": True,\n",
    "            \"entryPoint\": [],\n",
    "            \"command\": []\n",
    "        }    \n",
    "    ],\n",
    "    cpu = ecs_cpu,\n",
    "    memory = ecs_memory\n",
    ")"
   ],
   "outputs": [],
   "metadata": {}
  },
  {
   "cell_type": "markdown",
   "source": [
    "# 4. Run Simulation\n",
    "\n",
    "_Add subnet to your VPC here_"
   ],
   "metadata": {}
  },
  {
   "cell_type": "code",
   "execution_count": null,
   "source": [
    "for worker_node in range(worker_node_count):\n",
    "    \n",
    "    response = ecs_client.run_task(\n",
    "\n",
    "        cluster='simulation_keyspaces',\n",
    "        count=1,\n",
    "        launchType='FARGATE',\n",
    "        networkConfiguration={\n",
    "            'awsvpcConfiguration': {\n",
    "                'subnets': [\n",
    "                    str(subnet_ecs),\n",
    "                ],\n",
    "                'assignPublicIp': 'ENABLED'\n",
    "            }\n",
    "        },\n",
    "\n",
    "        taskDefinition='simulation_keyspaces',\n",
    "\n",
    "\n",
    "\n",
    "\n",
    "        overrides={\n",
    "            'containerOverrides': [\n",
    "                {\n",
    "                    'name': 'simulation_keyspaces',\n",
    "                    'environment': [\n",
    "                        {\n",
    "                            'name': 'workerNo',\n",
    "                            'value': str(worker_node)\n",
    "                        },\n",
    "                        {\n",
    "                            'name': 'requests',\n",
    "                            'value': '1000000', \n",
    "                        },\n",
    "                        {\n",
    "                            'name': 'num_processes',\n",
    "                            'value': '1'\n",
    "                        },\n",
    "                        {\n",
    "                            'name': 'simulation_name',\n",
    "                            'value': 'UK_Sim_Trial_1_Provisioned_1000000_245_Workers'\n",
    "                        },\n",
    "                        {\n",
    "                            'name': 'keyspaces_username',\n",
    "                            'value': str(keyspaces_username)\n",
    "                        },\n",
    "                        {\n",
    "                            'name': 'keyspaces_password',\n",
    "                            'value': str(keyspaces_password)\n",
    "                        },\n",
    "                        {\n",
    "                            'name': 's3_bucket_name',\n",
    "                            'value': str(s3_bucket_name)\n",
    "                        }\n",
    "                    ]\n",
    "                }\n",
    "            ]\n",
    "        }\n",
    "    )\n",
    "    \n",
    "    print(response)"
   ],
   "outputs": [],
   "metadata": {
    "pycharm": {
     "name": "#%%\n"
    }
   }
  }
 ],
 "metadata": {
  "kernelspec": {
   "display_name": "conda_python3",
   "language": "python",
   "name": "conda_python3"
  },
  "language_info": {
   "codemirror_mode": {
    "name": "ipython",
    "version": 3
   },
   "file_extension": ".py",
   "mimetype": "text/x-python",
   "name": "python",
   "nbconvert_exporter": "python",
   "pygments_lexer": "ipython3",
   "version": "3.6.13"
  }
 },
 "nbformat": 4,
 "nbformat_minor": 5
}